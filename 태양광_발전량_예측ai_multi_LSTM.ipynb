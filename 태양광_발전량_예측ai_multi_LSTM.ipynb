{
  "nbformat": 4,
  "nbformat_minor": 0,
  "metadata": {
    "colab": {
      "name": "태양광 발전량 예측ai_multi_LSTM",
      "private_outputs": true,
      "provenance": [],
      "collapsed_sections": [],
      "machine_shape": "hm",
      "mount_file_id": "1oaArBrNPXlJPYYLrGn2-AX-PqIdx27gu",
      "authorship_tag": "ABX9TyO8pf75icXr0YxeT6zf1b0H",
      "include_colab_link": true
    },
    "kernelspec": {
      "name": "python3",
      "display_name": "Python 3"
    },
    "accelerator": "GPU"
  },
  "cells": [
    {
      "cell_type": "markdown",
      "metadata": {
        "id": "view-in-github",
        "colab_type": "text"
      },
      "source": [
        "<a href=\"https://colab.research.google.com/github/gihoonpark/Solar_power_forecasting-Time_series-pinball_loss/blob/main/%ED%83%9C%EC%96%91%EA%B4%91_%EB%B0%9C%EC%A0%84%EB%9F%89_%EC%98%88%EC%B8%A1ai_multi_LSTM.ipynb\" target=\"_parent\"><img src=\"https://colab.research.google.com/assets/colab-badge.svg\" alt=\"Open In Colab\"/></a>"
      ]
    },
    {
      "cell_type": "markdown",
      "metadata": {
        "id": "HUqt38OHwQN1"
      },
      "source": [
        "Library"
      ]
    },
    {
      "cell_type": "code",
      "metadata": {
        "id": "N4vefbCz7nm_"
      },
      "source": [
        "import pandas as pd\r\n",
        "import numpy as np\r\n",
        "from glob import glob\r\n",
        "from sklearn.preprocessing import StandardScaler, MinMaxScaler\r\n",
        "from sklearn.model_selection import train_test_split\r\n",
        "from keras.callbacks import EarlyStopping\r\n",
        "from keras.models import Sequential, Model\r\n",
        "from keras.layers import Dense, LSTM, Input, Reshape, Flatten\r\n",
        "from keras import metrics\r\n",
        "from sklearn.metrics import r2_score\r\n",
        "from keras.layers import BatchNormalization\r\n",
        "from keras.callbacks import LearningRateScheduler\r\n",
        "import tensorflow as tf\r\n",
        "from keras.layers import Dense, LSTM, Input, Reshape, Flatten, LeakyReLU, Bidirectional, GRU, TimeDistributed, LayerNormalization, Conv1D\r\n",
        "from keras.optimizers import SGD, Adam\r\n",
        "import keras.backend as K\r\n",
        "from keras import regularizers"
      ],
      "execution_count": null,
      "outputs": []
    },
    {
      "cell_type": "markdown",
      "metadata": {
        "id": "avamGj_twjqI"
      },
      "source": [
        "Load Data"
      ]
    },
    {
      "cell_type": "code",
      "metadata": {
        "id": "QLmxQ5Z-whFf"
      },
      "source": [
        "df = pd.read_csv('/content/drive/MyDrive/dataset/태양광 발전량 예측ai/train/train.csv')\r\n",
        "x_train = df.drop(['Day','Hour','Minute','TARGET'], axis=1)\r\n",
        "y_train = df['TARGET']\r\n",
        "x_train, y_train"
      ],
      "execution_count": null,
      "outputs": []
    },
    {
      "cell_type": "markdown",
      "metadata": {
        "id": "u3FWmecJwTKW"
      },
      "source": [
        "Preprocessing (Scaling, Windowing, Padding, Split)"
      ]
    },
    {
      "cell_type": "code",
      "metadata": {
        "id": "-lUtMvIebFQj"
      },
      "source": [
        "scaler1 = StandardScaler()\r\n",
        "scaler2 = MinMaxScaler(feature_range=(0,1))\r\n",
        "scaler1.fit(x_train)\r\n",
        "scaler2.fit(x_train)\r\n",
        "x_train = scaler1.transform(x_train)"
      ],
      "execution_count": null,
      "outputs": []
    },
    {
      "cell_type": "code",
      "metadata": {
        "id": "43X041ro7AdP"
      },
      "source": [
        "windows = 4\r\n",
        "days = 2"
      ],
      "execution_count": null,
      "outputs": []
    },
    {
      "cell_type": "code",
      "metadata": {
        "id": "fdAghQ86IGKI"
      },
      "source": [
        "x= [x_train[windows*i : 48*days + windows*i]for i in range(13000)]\r\n",
        "y = [y_train.values[48*days + windows*i : 48*days + windows*i+96] for i in range(13000)]\r\n",
        "X_train = np.array(x)\r\n",
        "y_train = np.array(y)\r\n",
        "X_train.shape, y_train.shape"
      ],
      "execution_count": null,
      "outputs": []
    },
    {
      "cell_type": "code",
      "metadata": {
        "id": "n3z_aqxzMldn"
      },
      "source": [
        "from sklearn.model_selection import train_test_split\r\n",
        "X_train, X_val, y_train, y_val = train_test_split(X_train, y_train, shuffle=False, test_size=0.1)"
      ],
      "execution_count": null,
      "outputs": []
    },
    {
      "cell_type": "markdown",
      "metadata": {
        "id": "uOnvltUawxxJ"
      },
      "source": [
        "Model & Training"
      ]
    },
    {
      "cell_type": "code",
      "metadata": {
        "id": "elFk0_DrrEPi"
      },
      "source": [
        "optimzer1 = Adam(lr=0.001, beta_1=0.9, beta_2=0.99)\r\n",
        "optimzer2 = Adam(lr=0.001, beta_1=0.8, beta_2=0.8)\r\n",
        "optimzer3 = SGD(lr=0.01, momentum=0.9, nesterov=True)"
      ],
      "execution_count": null,
      "outputs": []
    },
    {
      "cell_type": "code",
      "metadata": {
        "id": "u7zJPVsWxBKs"
      },
      "source": [
        "def quantile01(quantile):\r\n",
        "    input = Input(shape=(48*days,5,))\r\n",
        "    dense = Bidirectional(LSTM(20, return_sequences=True))(input)\r\n",
        "    dense = Bidirectional(LSTM(20))(dense)\r\n",
        "    output = Dense(96, 'relu')(dense)\r\n",
        "    model = Model(inputs=input, outputs=output)\r\n",
        "    model.compile(optimizer=optimzer2, loss=lambda y, y_p: quantile_loss(quantile, y, y_p))\r\n",
        "    return model\r\n",
        "\r\n",
        "def quantile02(quantile):\r\n",
        "    input = Input(shape=(48*days,5,))\r\n",
        "    dense = LSTM(34, return_sequences=True)(input)\r\n",
        "    dense = LSTM(44)(dense)\r\n",
        "    output = Dense(96, 'relu')(dense)\r\n",
        "    model = Model(inputs=input, outputs=output)\r\n",
        "    model.compile(optimizer=optimzer2, loss=lambda y, y_p: quantile_loss(quantile, y, y_p))\r\n",
        "    return model\r\n",
        "\r\n",
        "def quantile03(quantile):\r\n",
        "    input = Input(shape=(48*days,5,))\r\n",
        "    dense = Bidirectional(LSTM(50, return_sequences=True))(input)\r\n",
        "    dense = Bidirectional(LSTM(50))(dense)\r\n",
        "    output = Dense(96, 'relu')(dense)\r\n",
        "    model = Model(inputs=input, outputs=output)\r\n",
        "    model.compile(optimizer=optimzer2, loss=lambda y, y_p: quantile_loss(quantile, y, y_p))\r\n",
        "    return model\r\n",
        "\r\n",
        "def quantile04(quantile):\r\n",
        "    input = Input(shape=(48*days,5,))\r\n",
        "    dense = Bidirectional(LSTM(50, return_sequences=True))(input)\r\n",
        "    dense = Bidirectional(LSTM(50))(dense)\r\n",
        "    output = Dense(96, 'relu')(dense)\r\n",
        "    model = Model(inputs=input, outputs=output)\r\n",
        "    model.compile(optimizer=optimzer2, loss=lambda y, y_p: quantile_loss(quantile, y, y_p))\r\n",
        "    return model\r\n",
        "\r\n",
        "def quantile05(quantile):\r\n",
        "    input = Input(shape=(48*days,5,))\r\n",
        "    dense = Bidirectional(LSTM(34, return_sequences=True))(input)\r\n",
        "    dense = Bidirectional(LSTM(48))(dense)\r\n",
        "    output = Dense(96, 'relu')(dense)\r\n",
        "    model = Model(inputs=input, outputs=output)\r\n",
        "    model.compile(optimizer=optimzer1, loss=lambda y, y_p: quantile_loss(quantile, y, y_p))\r\n",
        "    return model\r\n",
        "\r\n",
        "def quantile06(quantile):\r\n",
        "    input = Input(shape=(48*days,5,))\r\n",
        "    dense = Bidirectional(LSTM(20, return_sequences=True))(input)\r\n",
        "    dense = Bidirectional(LSTM(20))(dense)\r\n",
        "    output = Dense(96, 'relu')(dense)\r\n",
        "    model = Model(inputs=input, outputs=output)\r\n",
        "    model.compile(optimizer=optimzer2, loss=lambda y, y_p: quantile_loss(quantile, y, y_p))\r\n",
        "    return model\r\n",
        "\r\n",
        "\r\n",
        "def quantile07(quantile):\r\n",
        "    input = Input(shape=(48*days,5,))\r\n",
        "    dense = Bidirectional(LSTM(20, return_sequences=True))(input)\r\n",
        "    dense = Bidirectional(LSTM(20))(dense)\r\n",
        "    output = Dense(96, 'relu')(dense)\r\n",
        "    model = Model(inputs=input, outputs=output)\r\n",
        "    model.compile(optimizer=optimzer2, loss=lambda y, y_p: quantile_loss(quantile, y, y_p))\r\n",
        "    return model\r\n",
        "\r\n",
        "def quantile08(quantile):\r\n",
        "    input = Input(shape=(48*days,5,))\r\n",
        "    dense = LSTM(34, return_sequences=True)(input)\r\n",
        "    dense = LSTM(48)(dense)\r\n",
        "    output = Dense(96, 'relu')(dense)\r\n",
        "    model = Model(inputs=input, outputs=output)\r\n",
        "    model.compile(optimizer=optimzer2, loss=lambda y, y_p: quantile_loss(quantile, y, y_p))\r\n",
        "    return model\r\n",
        "\r\n",
        "def quantile09(quantile):\r\n",
        "    input = Input(shape=(48*days,5,))\r\n",
        "    dense = Bidirectional(LSTM(20, return_sequences=True))(input)\r\n",
        "    dense = Bidirectional(LSTM(20))(dense)\r\n",
        "    output = Dense(96, 'relu')(dense)\r\n",
        "    model = Model(inputs=input, outputs=output)\r\n",
        "    model.compile(optimizer=optimzer2, loss=lambda y, y_p: quantile_loss(quantile, y, y_p))\r\n",
        "    return model"
      ],
      "execution_count": null,
      "outputs": []
    },
    {
      "cell_type": "code",
      "metadata": {
        "id": "30oHVysmh4mm"
      },
      "source": [
        "es = EarlyStopping(monitor='val_loss', verbose=1, patience=20, restore_best_weights=True)"
      ],
      "execution_count": null,
      "outputs": []
    },
    {
      "cell_type": "code",
      "metadata": {
        "id": "sjESN7DJOdEA"
      },
      "source": [
        "# quantile = 0.1, loss_val = 1.0462 , 1.0478, 1.0498\r\n",
        "model1 = quantile01(0.1)\r\n",
        "model1.fit(X_train, y_train, epochs=100, validation_data = (X_val, y_val), batch_size=256, verbose=2, callbacks=[es])"
      ],
      "execution_count": null,
      "outputs": []
    },
    {
      "cell_type": "code",
      "metadata": {
        "id": "D0var1jghlpm"
      },
      "source": [
        "# quantile = 0.2, loss_val = 1.7153, 1.6696, 1.6962\r\n",
        "model2 = quantile02(0.2)\r\n",
        "model2.fit(X_train, y_train, epochs=100, validation_data = (X_val, y_val), batch_size=256, verbose=2, callbacks=[es])"
      ],
      "execution_count": null,
      "outputs": []
    },
    {
      "cell_type": "code",
      "metadata": {
        "id": "J-BqUWC0hlsF"
      },
      "source": [
        "# quantile = 0.3, loss_val = 2.0217, 1.9786, 1.9951\r\n",
        "model3 = quantile03(0.3)\r\n",
        "model3.fit(X_train, y_train, epochs=100, validation_data = (X_val, y_val), batch_size=256, verbose=2, callbacks=[es])"
      ],
      "execution_count": null,
      "outputs": []
    },
    {
      "cell_type": "code",
      "metadata": {
        "id": "WAGH_f6Ohlut"
      },
      "source": [
        "# quantile = 0.4, loss_val = 2.0735, 2.0454, 2.0297\r\n",
        "model4 = quantile04(0.4)\r\n",
        "model4.fit(X_train, y_train, epochs=100, validation_data = (X_val, y_val), batch_size=256, verbose=2, callbacks=[es])"
      ],
      "execution_count": null,
      "outputs": []
    },
    {
      "cell_type": "code",
      "metadata": {
        "id": "wxFLMSsDhlvx"
      },
      "source": [
        "# quantile = 0.5, loss_val = 1.9866, 1.9474, 1.9447\r\n",
        "model5 = quantile05(0.5)\r\n",
        "model5.fit(X_train, y_train, epochs=100, validation_data = (X_val, y_val), batch_size=256, verbose=2)"
      ],
      "execution_count": null,
      "outputs": []
    },
    {
      "cell_type": "code",
      "metadata": {
        "id": "XH-QHYuthlx1"
      },
      "source": [
        "# quantile = 0.6, loss_val = 1.8111, 1.7291, 1.7318\r\n",
        "model6 = quantile06(0.6)\r\n",
        "model6.fit(X_train, y_train, epochs=150, validation_data = (X_val, y_val), batch_size=256, verbose=2, callbacks=[es])"
      ],
      "execution_count": null,
      "outputs": []
    },
    {
      "cell_type": "code",
      "metadata": {
        "id": "HWnDB0IEhly7"
      },
      "source": [
        "# quantile = 0.7, loss_val = 1.5213, 1.4794, 1.4587\r\n",
        "model7 = quantile07(0.7)\r\n",
        "model7.fit(X_train, y_train, epochs=150, validation_data = (X_val, y_val), batch_size=256, verbose=2, callbacks=[es])"
      ],
      "execution_count": null,
      "outputs": []
    },
    {
      "cell_type": "code",
      "metadata": {
        "id": "6vN1HyFEhl0y"
      },
      "source": [
        "# quantile = 0.8, loss_val = 1.1122, 1.0850, 1.0636\r\n",
        "model8 = quantile08(0.8)\r\n",
        "model8.fit(X_train, y_train, epochs=150, validation_data = (X_val, y_val), batch_size=256, verbose=2, callbacks=[es])"
      ],
      "execution_count": null,
      "outputs": []
    },
    {
      "cell_type": "code",
      "metadata": {
        "id": "WpSd3wNahl2T"
      },
      "source": [
        "# quantile = 0.9, loss_val = 1.2234, 0.8821, 0.6088\r\n",
        "model9 = quantile09(0.9)\r\n",
        "model9.fit(X_train, y_train, epochs=200, validation_data = (X_val, y_val), batch_size=256, verbose=2, callbacks=[es])"
      ],
      "execution_count": null,
      "outputs": []
    },
    {
      "cell_type": "code",
      "metadata": {
        "id": "SMbl1s0uhl90"
      },
      "source": [
        "model_list = [model1, model2, model3, model4, model5, model6, model7, model8, model9]\r\n",
        "quantiles =[0.1, 0.2, 0.3, 0.4, 0.5, 0.6, 0.7, 0.8, 0.9]"
      ],
      "execution_count": null,
      "outputs": []
    },
    {
      "cell_type": "markdown",
      "metadata": {
        "id": "Oeu4I8pw56H7"
      },
      "source": [
        "Load Test Data"
      ]
    },
    {
      "cell_type": "code",
      "metadata": {
        "id": "jwKdsGvDLCD0"
      },
      "source": [
        "new_test_df2 = pd.DataFrame()\r\n",
        "for q in quantiles:\r\n",
        "    new_test_df2[q] = [0]*48*2*81"
      ],
      "execution_count": null,
      "outputs": []
    },
    {
      "cell_type": "code",
      "metadata": {
        "id": "Ey6ozrOwLh34"
      },
      "source": [
        "test_files = []\r\n",
        "for i in range(81):\r\n",
        "    file_path = '/content/drive/MyDrive/dataset/태양광 발전량 예측ai/test/' + str(i) + '.csv'\r\n",
        "    test_files.append(file_path)"
      ],
      "execution_count": null,
      "outputs": []
    },
    {
      "cell_type": "code",
      "metadata": {
        "id": "QZBrzmymLgz8"
      },
      "source": [
        "# quantile 별 model, windows = 4\r\n",
        "\r\n",
        "table = pd.read_csv('/content/drive/MyDrive/dataset/태양광 발전량 예측ai/table.csv')\r\n",
        "for i, (m, q) in enumerate(zip(model_list, quantiles)):\r\n",
        "    for test_num in range(81):\r\n",
        "        #test = scaler2.fit_transform(pd.read_csv(test_files[test_num]).iloc[48*3:, 3:-1]).reshape(-1,48*days,5)\r\n",
        "        test = scaler1.transform(pd.read_csv(test_files[test_num]).iloc[48*(7-days):, 3:-1]).reshape(-1,48*days,5)\r\n",
        "        pred = m.predict(test)\r\n",
        "        new_test_df2.loc[test_num*96 : test_num*96 + 96-1, q] = pred.reshape(-1)\r\n",
        "    table.iloc[:,i+1] = new_test_df2[q]\r\n",
        "\r\n",
        "#new_test_df2.to_csv('/content/drive/MyDrive/dataset/태양광 발전량 예측ai/table.csv', index=False)"
      ],
      "execution_count": null,
      "outputs": []
    },
    {
      "cell_type": "code",
      "metadata": {
        "id": "QAJifqq2-Xgc"
      },
      "source": [
        "table = pd.concat([table.iloc[:,0], table.iloc[:,1:].applymap(lambda x : 0 if x < 0 else x)],axis=1)\r\n",
        "table"
      ],
      "execution_count": null,
      "outputs": []
    },
    {
      "cell_type": "markdown",
      "metadata": {
        "id": "FFgU7iqFyG2z"
      },
      "source": [
        "Visualize result"
      ]
    },
    {
      "cell_type": "code",
      "metadata": {
        "id": "I1iDmyS7_HI_"
      },
      "source": [
        "import matplotlib.pyplot as plt\r\n",
        "\r\n",
        "plt.plot(table2.iloc[:,1].values[:48*2])"
      ],
      "execution_count": null,
      "outputs": []
    },
    {
      "cell_type": "markdown",
      "metadata": {
        "id": "T2EOoR1FyZK3"
      },
      "source": [
        "Submit"
      ]
    },
    {
      "cell_type": "code",
      "metadata": {
        "id": "rETOQ2ySYqH7"
      },
      "source": [
        "table.to_csv('/content/drive/MyDrive/dataset/태양광 발전량 예측ai/sample_submission.csv', index=False)"
      ],
      "execution_count": null,
      "outputs": []
    }
  ]
}